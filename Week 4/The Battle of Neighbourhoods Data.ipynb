{
    "cells": [
        {
            "cell_type": "markdown",
            "metadata": {
                "collapsed": true
            },
            "source": "# Capstone Project - The Battle of Neighbourhoods"
        },
        {
            "cell_type": "markdown",
            "metadata": {},
            "source": "## 1. Introduction\n### 1.1 Background\nThe average American moves about eleven times in their lifetime. This brings us to the question:\nDo people move until they find a place to settle down where they truly feel happy, or do our wants and needs change over time, prompting us to eventually leave a town we once called home for a new area that will bring us satisfaction? Or, do we too often move to a new area without knowing exactly what we\u2019re getting into, forcing us to turn tail and run at the first sign of discomfort? To minimize the chances of this happening, we should always do proper research when planning our next move in life. Consider the following factors when picking a new place to live so you don\u2019t end up wasting your valuable time and money making a move you\u2019ll end up regretting. Safety is a top concern when moving to a new area. If you don\u2019t feel safe in your own home, you\u2019re not going to be able to enjoy living there."
        },
        {
            "cell_type": "markdown",
            "metadata": {},
            "source": "### 1.2 Problem\nThe crime statistics dataset of New York found on Kaggle has crimes in each Boroughs of New York from 2001 to 2015. The year 2015 being the latest we will be considering the data of that year which is actually old information as of now. The crime rates in each borough may have changed over time. This project aims to select the safest borough in New York based on the total crimes, explore the neighborhoodsthe neighbourhoods of that borough to find the 10 most common venues in each neighborhood and finally cluster the neighborhoods using k-mean clustering."
        },
        {
            "cell_type": "markdown",
            "metadata": {},
            "source": "### 1.3 Target Audience\nExpats who are considering to relocate to New york will be interested to identify the safest borough in New York and explore its neighborhoods and common venues around each neighborhood. Most people like international students who could relocate to New York for thier education, career aspects etc. would get benefitted because they might not know anything about the neighbourhood before they move in."
        },
        {
            "cell_type": "markdown",
            "metadata": {},
            "source": "## 2. Data Acquisition and Cleaning\n### 2.1 Data Acquisition\nThe data acquired for this project is a combination of data from two sources. The first data source of the project uses a New York Historical crime data that shows the crime per borough in New York. The dataset contains the following columns:\n\n\u25cf CMPLNT_NUM: Randomly generated persistent ID for each complaint.\n\n\u25cf CMPLNT_FR_DT: Exact date of occurrence for the reported event (or starting date of occurrence, if CMPLNT_TO_DT exists.\n\n\u25cf CMPLNT_FR_TM: Exact time of occurrence for the reported event (or starting time of occurrence, if CMPLNT_TO_TM exists.\n\n\u25cf CMPLNT_TO_DT: Ending date of occurrence for the reported event, if exact time of occurrence is unknown\n\n\u25cf CMPLNT_TO_TM: Ending time of occurrence for the reported event, if exact time of occurrence is unknown\n\n\u25cf RPT_DT: Date event was reported to police\n\n\u25cf KY_CD: Three digit offense classification code\n\n\u25cf OFNS_DESC: Description of offense corresponding with key code\n\n\u25cf PD_CD: Three digit internal classification code (more granular than Key Code)\n\n\u25cf PD_DESC: Description of internal classification corresponding with PD code (more granular than Offense Description.\n\n\u25cf CRM_ATPT_CPTD_CD: Indicator of whether crime was successfully completed or attempted, but failed or was interrupted prematurely.\n\n\u25cf LAW_CAT_CD: Level of offense: felony, misdemeanor, violation\n\n\u25cf JURIS_DESC: Jurisdiction responsible for incident. Either internal, like Police, Transit, and Housing; or external like Correction,Port Authority etc.\n\n\u25cf BORO_NM: The name of the borough in which the incident occurred\n\n\u25cf ADDR_PCT_CD: The precinct in which the incident occurred\n\n\u25cf LOC_OF_OCCUR_DESC: Specific location of occurrence in or around the premises; inside, opposite of, front of, rear of\n\n\u25cf PREM_TYP_DESC: Specific description of premises; grocery store, residence, street, etc.\n\n\u25cf PARKS_NM: Name of NYC park, playground or greenspace of occurrence, if applicable (state parks are not included)\n\n\u25cf HADEVELOPT: Name of NYCHA housing development of occurrence, if applicable\n\n\u25cf X_COORD_CD: X-coordinate for New York State Plane Coordinate System, Long Island Zone, NAD 83, units feet (FIPS 3104)\n\n\u25cf Y_COORD_CD: Y-coordinate for New York State Plane Coordinate System, Long Island Zone, NAD 83, units feet (FIPS 3104)\n\n\u25cf Latitude: Latitude coordinate for Global Coordinate System, WGS 1984, decimal degrees (EPSG 4326)\n\n\u25cf Longitude: Longitude coordinate for Global Coordinate System, WGS 1984, decimal degrees (EPSG 4326)\n"
        },
        {
            "cell_type": "markdown",
            "metadata": {},
            "source": ""
        },
        {
            "cell_type": "markdown",
            "metadata": {},
            "source": ""
        },
        {
            "cell_type": "code",
            "execution_count": null,
            "metadata": {},
            "outputs": [],
            "source": ""
        }
    ],
    "metadata": {
        "kernelspec": {
            "display_name": "Python 3.6",
            "language": "python",
            "name": "python3"
        },
        "language_info": {
            "codemirror_mode": {
                "name": "ipython",
                "version": 3
            },
            "file_extension": ".py",
            "mimetype": "text/x-python",
            "name": "python",
            "nbconvert_exporter": "python",
            "pygments_lexer": "ipython3",
            "version": "3.6.9"
        }
    },
    "nbformat": 4,
    "nbformat_minor": 1
}